{
 "cells": [
  {
   "cell_type": "code",
   "execution_count": 1,
   "id": "7b3de935-a29a-489e-af7a-f23f4474578e",
   "metadata": {},
   "outputs": [],
   "source": [
    "#reading pdf and saving it into txt"
   ]
  },
  {
   "cell_type": "code",
   "execution_count": 9,
   "id": "59e37219-88a6-4f65-86ce-755c3bb8f0d9",
   "metadata": {},
   "outputs": [],
   "source": [
    "\n",
    "import fitz\n",
    "pdf_path=  'pdf/_OceanofPDF.com_Mahabharata_Unravelled_-_Ami_Ganatra.pdf'\n",
    "\n",
    "pdf_doc = fitz.open(pdf_path)\n",
    "\n",
    "with open('output.txt','w',encoding = 'utf-8') as file:\n",
    "    for page_number in range(len(pdf_doc)):\n",
    "        page = pdf_doc[page_number]\n",
    "        text = page.get_text()\n",
    "        file.write(f\"Page {page_number+1}:\\n{text}\\n\")\n",
    "pdf_doc.close()"
   ]
  },
  {
   "cell_type": "code",
   "execution_count": 10,
   "id": "05611c4e-ca84-448d-9ebb-a69de7ab590a",
   "metadata": {},
   "outputs": [],
   "source": [
    "#llm buuilding"
   ]
  },
  {
   "cell_type": "code",
   "execution_count": 11,
   "id": "9674ff66-5e1f-4406-ab33-657518c941e4",
   "metadata": {},
   "outputs": [],
   "source": [
    "import os\n",
    "import glob\n",
    "from dotenv import load_dotenv\n",
    "import gradio as gr"
   ]
  },
  {
   "cell_type": "code",
   "execution_count": 15,
   "id": "43db70bc-8bad-4821-ac12-5cb84ce4ba14",
   "metadata": {},
   "outputs": [],
   "source": [
    "from langchain.document_loaders import DirectoryLoader,TextLoader\n",
    "from langchain.text_splitter import CharacterTextSplitter\n",
    "from langchain.schema import Document\n",
    "from langchain_openai import OpenAIEmbeddings,ChatOpenAI\n",
    "from langchain_chroma import Chroma\n",
    "import numpy as np\n",
    "from sklearn.manifold import TSNE\n",
    "import plotly.graph_objects as go\n",
    "from langchain.memory import ConversationBufferMemory\n",
    "from langchain.chains import ConversationalRetrievalChain"
   ]
  },
  {
   "cell_type": "code",
   "execution_count": 16,
   "id": "0d701431-9200-4458-92ed-7c1dc3536ef6",
   "metadata": {},
   "outputs": [],
   "source": [
    "model = \"gpt-4o-mini\"\n",
    "db_name = \"vector_db\""
   ]
  },
  {
   "cell_type": "code",
   "execution_count": 17,
   "id": "bc069e96-1084-4d74-98da-baf453314ef5",
   "metadata": {},
   "outputs": [],
   "source": [
    "load_dotenv()\n",
    "os.environ[\"OPENAI_API_KEY\"] = os.getenv(\"OPENAI_API_KEY\")"
   ]
  },
  {
   "cell_type": "code",
   "execution_count": 19,
   "id": "ab0ec612-df05-49f4-8d97-63c998215a6c",
   "metadata": {},
   "outputs": [],
   "source": [
    "txt_path = 'output.txt'\n",
    "with open(txt_path,'r',encoding  =' utf-8') as file:\n",
    "    content = file.read()"
   ]
  },
  {
   "cell_type": "code",
   "execution_count": 23,
   "id": "f7900175-d90c-4cf4-9e65-b99e75214ae7",
   "metadata": {},
   "outputs": [],
   "source": [
    "#loading txt using langchain loader\n",
    "txt_path = 'output.txt'\n",
    "loader = TextLoader(txt_path,encoding =\"utf-8\")\n",
    "content = loader.load()"
   ]
  },
  {
   "cell_type": "code",
   "execution_count": 24,
   "id": "332877fa-090f-4f67-bf4e-9dd444a619e8",
   "metadata": {},
   "outputs": [
    {
     "name": "stderr",
     "output_type": "stream",
     "text": [
      "Created a chunk of size 1503, which is longer than the specified 1000\n",
      "Created a chunk of size 2005, which is longer than the specified 1000\n",
      "Created a chunk of size 1800, which is longer than the specified 1000\n",
      "Created a chunk of size 1943, which is longer than the specified 1000\n",
      "Created a chunk of size 1978, which is longer than the specified 1000\n",
      "Created a chunk of size 1382, which is longer than the specified 1000\n",
      "Created a chunk of size 1426, which is longer than the specified 1000\n",
      "Created a chunk of size 1835, which is longer than the specified 1000\n",
      "Created a chunk of size 1790, which is longer than the specified 1000\n",
      "Created a chunk of size 1630, which is longer than the specified 1000\n",
      "Created a chunk of size 2075, which is longer than the specified 1000\n",
      "Created a chunk of size 1892, which is longer than the specified 1000\n",
      "Created a chunk of size 1744, which is longer than the specified 1000\n",
      "Created a chunk of size 2067, which is longer than the specified 1000\n",
      "Created a chunk of size 1528, which is longer than the specified 1000\n",
      "Created a chunk of size 1462, which is longer than the specified 1000\n",
      "Created a chunk of size 1775, which is longer than the specified 1000\n",
      "Created a chunk of size 1866, which is longer than the specified 1000\n",
      "Created a chunk of size 2076, which is longer than the specified 1000\n",
      "Created a chunk of size 2047, which is longer than the specified 1000\n",
      "Created a chunk of size 1682, which is longer than the specified 1000\n",
      "Created a chunk of size 1926, which is longer than the specified 1000\n",
      "Created a chunk of size 1605, which is longer than the specified 1000\n",
      "Created a chunk of size 1692, which is longer than the specified 1000\n",
      "Created a chunk of size 1936, which is longer than the specified 1000\n",
      "Created a chunk of size 1903, which is longer than the specified 1000\n",
      "Created a chunk of size 1792, which is longer than the specified 1000\n",
      "Created a chunk of size 1031, which is longer than the specified 1000\n",
      "Created a chunk of size 1600, which is longer than the specified 1000\n",
      "Created a chunk of size 1964, which is longer than the specified 1000\n",
      "Created a chunk of size 1819, which is longer than the specified 1000\n",
      "Created a chunk of size 1848, which is longer than the specified 1000\n",
      "Created a chunk of size 1494, which is longer than the specified 1000\n",
      "Created a chunk of size 1563, which is longer than the specified 1000\n",
      "Created a chunk of size 1624, which is longer than the specified 1000\n",
      "Created a chunk of size 1787, which is longer than the specified 1000\n",
      "Created a chunk of size 1784, which is longer than the specified 1000\n",
      "Created a chunk of size 1839, which is longer than the specified 1000\n",
      "Created a chunk of size 1172, which is longer than the specified 1000\n",
      "Created a chunk of size 1883, which is longer than the specified 1000\n",
      "Created a chunk of size 1981, which is longer than the specified 1000\n",
      "Created a chunk of size 1891, which is longer than the specified 1000\n",
      "Created a chunk of size 1743, which is longer than the specified 1000\n",
      "Created a chunk of size 1825, which is longer than the specified 1000\n",
      "Created a chunk of size 2086, which is longer than the specified 1000\n",
      "Created a chunk of size 2034, which is longer than the specified 1000\n",
      "Created a chunk of size 1751, which is longer than the specified 1000\n",
      "Created a chunk of size 1875, which is longer than the specified 1000\n",
      "Created a chunk of size 1801, which is longer than the specified 1000\n",
      "Created a chunk of size 2090, which is longer than the specified 1000\n",
      "Created a chunk of size 1912, which is longer than the specified 1000\n",
      "Created a chunk of size 2106, which is longer than the specified 1000\n",
      "Created a chunk of size 2017, which is longer than the specified 1000\n",
      "Created a chunk of size 1821, which is longer than the specified 1000\n",
      "Created a chunk of size 2007, which is longer than the specified 1000\n",
      "Created a chunk of size 1840, which is longer than the specified 1000\n",
      "Created a chunk of size 1743, which is longer than the specified 1000\n",
      "Created a chunk of size 1710, which is longer than the specified 1000\n",
      "Created a chunk of size 1976, which is longer than the specified 1000\n",
      "Created a chunk of size 1917, which is longer than the specified 1000\n",
      "Created a chunk of size 2003, which is longer than the specified 1000\n",
      "Created a chunk of size 1735, which is longer than the specified 1000\n",
      "Created a chunk of size 2095, which is longer than the specified 1000\n",
      "Created a chunk of size 1902, which is longer than the specified 1000\n",
      "Created a chunk of size 2007, which is longer than the specified 1000\n",
      "Created a chunk of size 1938, which is longer than the specified 1000\n",
      "Created a chunk of size 2104, which is longer than the specified 1000\n",
      "Created a chunk of size 2028, which is longer than the specified 1000\n",
      "Created a chunk of size 1871, which is longer than the specified 1000\n",
      "Created a chunk of size 1900, which is longer than the specified 1000\n",
      "Created a chunk of size 2009, which is longer than the specified 1000\n",
      "Created a chunk of size 2030, which is longer than the specified 1000\n",
      "Created a chunk of size 1926, which is longer than the specified 1000\n",
      "Created a chunk of size 2030, which is longer than the specified 1000\n",
      "Created a chunk of size 1815, which is longer than the specified 1000\n",
      "Created a chunk of size 1700, which is longer than the specified 1000\n",
      "Created a chunk of size 1588, which is longer than the specified 1000\n",
      "Created a chunk of size 1689, which is longer than the specified 1000\n",
      "Created a chunk of size 1885, which is longer than the specified 1000\n",
      "Created a chunk of size 1996, which is longer than the specified 1000\n",
      "Created a chunk of size 1966, which is longer than the specified 1000\n",
      "Created a chunk of size 1977, which is longer than the specified 1000\n",
      "Created a chunk of size 1248, which is longer than the specified 1000\n",
      "Created a chunk of size 1719, which is longer than the specified 1000\n",
      "Created a chunk of size 2039, which is longer than the specified 1000\n",
      "Created a chunk of size 1983, which is longer than the specified 1000\n",
      "Created a chunk of size 1937, which is longer than the specified 1000\n",
      "Created a chunk of size 2007, which is longer than the specified 1000\n",
      "Created a chunk of size 1898, which is longer than the specified 1000\n",
      "Created a chunk of size 2060, which is longer than the specified 1000\n",
      "Created a chunk of size 2009, which is longer than the specified 1000\n",
      "Created a chunk of size 1888, which is longer than the specified 1000\n",
      "Created a chunk of size 2082, which is longer than the specified 1000\n",
      "Created a chunk of size 2032, which is longer than the specified 1000\n",
      "Created a chunk of size 2008, which is longer than the specified 1000\n",
      "Created a chunk of size 2043, which is longer than the specified 1000\n",
      "Created a chunk of size 1887, which is longer than the specified 1000\n",
      "Created a chunk of size 1993, which is longer than the specified 1000\n",
      "Created a chunk of size 2008, which is longer than the specified 1000\n",
      "Created a chunk of size 1915, which is longer than the specified 1000\n",
      "Created a chunk of size 1995, which is longer than the specified 1000\n",
      "Created a chunk of size 1901, which is longer than the specified 1000\n",
      "Created a chunk of size 2104, which is longer than the specified 1000\n",
      "Created a chunk of size 1973, which is longer than the specified 1000\n",
      "Created a chunk of size 2011, which is longer than the specified 1000\n",
      "Created a chunk of size 1886, which is longer than the specified 1000\n",
      "Created a chunk of size 2092, which is longer than the specified 1000\n",
      "Created a chunk of size 1993, which is longer than the specified 1000\n",
      "Created a chunk of size 1863, which is longer than the specified 1000\n",
      "Created a chunk of size 2012, which is longer than the specified 1000\n",
      "Created a chunk of size 2064, which is longer than the specified 1000\n",
      "Created a chunk of size 1775, which is longer than the specified 1000\n",
      "Created a chunk of size 1973, which is longer than the specified 1000\n",
      "Created a chunk of size 2047, which is longer than the specified 1000\n",
      "Created a chunk of size 1981, which is longer than the specified 1000\n",
      "Created a chunk of size 2053, which is longer than the specified 1000\n",
      "Created a chunk of size 1282, which is longer than the specified 1000\n",
      "Created a chunk of size 1810, which is longer than the specified 1000\n",
      "Created a chunk of size 2104, which is longer than the specified 1000\n",
      "Created a chunk of size 1891, which is longer than the specified 1000\n",
      "Created a chunk of size 2063, which is longer than the specified 1000\n",
      "Created a chunk of size 1940, which is longer than the specified 1000\n",
      "Created a chunk of size 2000, which is longer than the specified 1000\n",
      "Created a chunk of size 2151, which is longer than the specified 1000\n",
      "Created a chunk of size 2168, which is longer than the specified 1000\n",
      "Created a chunk of size 2100, which is longer than the specified 1000\n",
      "Created a chunk of size 2141, which is longer than the specified 1000\n",
      "Created a chunk of size 2029, which is longer than the specified 1000\n",
      "Created a chunk of size 1939, which is longer than the specified 1000\n",
      "Created a chunk of size 1918, which is longer than the specified 1000\n",
      "Created a chunk of size 2102, which is longer than the specified 1000\n",
      "Created a chunk of size 1720, which is longer than the specified 1000\n",
      "Created a chunk of size 2040, which is longer than the specified 1000\n",
      "Created a chunk of size 1968, which is longer than the specified 1000\n",
      "Created a chunk of size 1697, which is longer than the specified 1000\n",
      "Created a chunk of size 1633, which is longer than the specified 1000\n",
      "Created a chunk of size 1764, which is longer than the specified 1000\n",
      "Created a chunk of size 1347, which is longer than the specified 1000\n",
      "Created a chunk of size 2005, which is longer than the specified 1000\n",
      "Created a chunk of size 1914, which is longer than the specified 1000\n",
      "Created a chunk of size 2121, which is longer than the specified 1000\n",
      "Created a chunk of size 2033, which is longer than the specified 1000\n",
      "Created a chunk of size 2004, which is longer than the specified 1000\n",
      "Created a chunk of size 2051, which is longer than the specified 1000\n",
      "Created a chunk of size 1860, which is longer than the specified 1000\n",
      "Created a chunk of size 2051, which is longer than the specified 1000\n",
      "Created a chunk of size 2113, which is longer than the specified 1000\n",
      "Created a chunk of size 1998, which is longer than the specified 1000\n",
      "Created a chunk of size 1839, which is longer than the specified 1000\n",
      "Created a chunk of size 1963, which is longer than the specified 1000\n",
      "Created a chunk of size 1920, which is longer than the specified 1000\n",
      "Created a chunk of size 2035, which is longer than the specified 1000\n",
      "Created a chunk of size 1860, which is longer than the specified 1000\n",
      "Created a chunk of size 1676, which is longer than the specified 1000\n",
      "Created a chunk of size 1701, which is longer than the specified 1000\n",
      "Created a chunk of size 1839, which is longer than the specified 1000\n",
      "Created a chunk of size 1855, which is longer than the specified 1000\n",
      "Created a chunk of size 1305, which is longer than the specified 1000\n",
      "Created a chunk of size 1066, which is longer than the specified 1000\n",
      "Created a chunk of size 1649, which is longer than the specified 1000\n",
      "Created a chunk of size 1841, which is longer than the specified 1000\n",
      "Created a chunk of size 2059, which is longer than the specified 1000\n",
      "Created a chunk of size 1861, which is longer than the specified 1000\n",
      "Created a chunk of size 2047, which is longer than the specified 1000\n",
      "Created a chunk of size 1944, which is longer than the specified 1000\n",
      "Created a chunk of size 2000, which is longer than the specified 1000\n",
      "Created a chunk of size 2102, which is longer than the specified 1000\n",
      "Created a chunk of size 1920, which is longer than the specified 1000\n",
      "Created a chunk of size 1814, which is longer than the specified 1000\n",
      "Created a chunk of size 1942, which is longer than the specified 1000\n",
      "Created a chunk of size 1810, which is longer than the specified 1000\n",
      "Created a chunk of size 1834, which is longer than the specified 1000\n",
      "Created a chunk of size 1949, which is longer than the specified 1000\n",
      "Created a chunk of size 1503, which is longer than the specified 1000\n",
      "Created a chunk of size 1503, which is longer than the specified 1000\n",
      "Created a chunk of size 1613, which is longer than the specified 1000\n",
      "Created a chunk of size 1980, which is longer than the specified 1000\n",
      "Created a chunk of size 2050, which is longer than the specified 1000\n",
      "Created a chunk of size 2079, which is longer than the specified 1000\n",
      "Created a chunk of size 2070, which is longer than the specified 1000\n",
      "Created a chunk of size 2052, which is longer than the specified 1000\n",
      "Created a chunk of size 1829, which is longer than the specified 1000\n",
      "Created a chunk of size 1911, which is longer than the specified 1000\n",
      "Created a chunk of size 1973, which is longer than the specified 1000\n",
      "Created a chunk of size 1851, which is longer than the specified 1000\n",
      "Created a chunk of size 1982, which is longer than the specified 1000\n",
      "Created a chunk of size 1956, which is longer than the specified 1000\n",
      "Created a chunk of size 2201, which is longer than the specified 1000\n",
      "Created a chunk of size 1647, which is longer than the specified 1000\n",
      "Created a chunk of size 1811, which is longer than the specified 1000\n",
      "Created a chunk of size 1067, which is longer than the specified 1000\n",
      "Created a chunk of size 1726, which is longer than the specified 1000\n",
      "Created a chunk of size 2160, which is longer than the specified 1000\n",
      "Created a chunk of size 1943, which is longer than the specified 1000\n",
      "Created a chunk of size 1756, which is longer than the specified 1000\n",
      "Created a chunk of size 1846, which is longer than the specified 1000\n",
      "Created a chunk of size 1940, which is longer than the specified 1000\n",
      "Created a chunk of size 2055, which is longer than the specified 1000\n",
      "Created a chunk of size 1779, which is longer than the specified 1000\n",
      "Created a chunk of size 1978, which is longer than the specified 1000\n",
      "Created a chunk of size 1868, which is longer than the specified 1000\n",
      "Created a chunk of size 1896, which is longer than the specified 1000\n",
      "Created a chunk of size 1852, which is longer than the specified 1000\n",
      "Created a chunk of size 2082, which is longer than the specified 1000\n",
      "Created a chunk of size 2076, which is longer than the specified 1000\n",
      "Created a chunk of size 1622, which is longer than the specified 1000\n",
      "Created a chunk of size 1916, which is longer than the specified 1000\n",
      "Created a chunk of size 1800, which is longer than the specified 1000\n",
      "Created a chunk of size 1941, which is longer than the specified 1000\n",
      "Created a chunk of size 1836, which is longer than the specified 1000\n",
      "Created a chunk of size 1870, which is longer than the specified 1000\n",
      "Created a chunk of size 1852, which is longer than the specified 1000\n",
      "Created a chunk of size 2027, which is longer than the specified 1000\n",
      "Created a chunk of size 1731, which is longer than the specified 1000\n",
      "Created a chunk of size 1883, which is longer than the specified 1000\n",
      "Created a chunk of size 1671, which is longer than the specified 1000\n",
      "Created a chunk of size 1826, which is longer than the specified 1000\n",
      "Created a chunk of size 1946, which is longer than the specified 1000\n",
      "Created a chunk of size 1800, which is longer than the specified 1000\n",
      "Created a chunk of size 1862, which is longer than the specified 1000\n",
      "Created a chunk of size 1880, which is longer than the specified 1000\n",
      "Created a chunk of size 1784, which is longer than the specified 1000\n",
      "Created a chunk of size 1766, which is longer than the specified 1000\n",
      "Created a chunk of size 1668, which is longer than the specified 1000\n",
      "Created a chunk of size 1788, which is longer than the specified 1000\n",
      "Created a chunk of size 1898, which is longer than the specified 1000\n",
      "Created a chunk of size 1737, which is longer than the specified 1000\n",
      "Created a chunk of size 2094, which is longer than the specified 1000\n",
      "Created a chunk of size 1777, which is longer than the specified 1000\n",
      "Created a chunk of size 1928, which is longer than the specified 1000\n",
      "Created a chunk of size 1922, which is longer than the specified 1000\n",
      "Created a chunk of size 2095, which is longer than the specified 1000\n",
      "Created a chunk of size 1910, which is longer than the specified 1000\n",
      "Created a chunk of size 1870, which is longer than the specified 1000\n",
      "Created a chunk of size 1803, which is longer than the specified 1000\n",
      "Created a chunk of size 2055, which is longer than the specified 1000\n",
      "Created a chunk of size 1888, which is longer than the specified 1000\n",
      "Created a chunk of size 1961, which is longer than the specified 1000\n",
      "Created a chunk of size 1414, which is longer than the specified 1000\n",
      "Created a chunk of size 1617, which is longer than the specified 1000\n",
      "Created a chunk of size 2034, which is longer than the specified 1000\n",
      "Created a chunk of size 1860, which is longer than the specified 1000\n",
      "Created a chunk of size 1969, which is longer than the specified 1000\n",
      "Created a chunk of size 1798, which is longer than the specified 1000\n",
      "Created a chunk of size 1904, which is longer than the specified 1000\n",
      "Created a chunk of size 1574, which is longer than the specified 1000\n",
      "Created a chunk of size 1717, which is longer than the specified 1000\n",
      "Created a chunk of size 2096, which is longer than the specified 1000\n",
      "Created a chunk of size 1839, which is longer than the specified 1000\n",
      "Created a chunk of size 1919, which is longer than the specified 1000\n",
      "Created a chunk of size 1932, which is longer than the specified 1000\n",
      "Created a chunk of size 1901, which is longer than the specified 1000\n",
      "Created a chunk of size 1878, which is longer than the specified 1000\n",
      "Created a chunk of size 1081, which is longer than the specified 1000\n",
      "Created a chunk of size 1616, which is longer than the specified 1000\n",
      "Created a chunk of size 2040, which is longer than the specified 1000\n",
      "Created a chunk of size 1961, which is longer than the specified 1000\n",
      "Created a chunk of size 2112, which is longer than the specified 1000\n",
      "Created a chunk of size 1896, which is longer than the specified 1000\n",
      "Created a chunk of size 1284, which is longer than the specified 1000\n",
      "Created a chunk of size 1428, which is longer than the specified 1000\n",
      "Created a chunk of size 1742, which is longer than the specified 1000\n",
      "Created a chunk of size 1743, which is longer than the specified 1000\n",
      "Created a chunk of size 1576, which is longer than the specified 1000\n",
      "Created a chunk of size 1490, which is longer than the specified 1000\n",
      "Created a chunk of size 1445, which is longer than the specified 1000\n",
      "Created a chunk of size 1538, which is longer than the specified 1000\n",
      "Created a chunk of size 1200, which is longer than the specified 1000\n",
      "Created a chunk of size 1507, which is longer than the specified 1000\n",
      "Created a chunk of size 1369, which is longer than the specified 1000\n",
      "Created a chunk of size 2119, which is longer than the specified 1000\n",
      "Created a chunk of size 2033, which is longer than the specified 1000\n",
      "Created a chunk of size 1993, which is longer than the specified 1000\n",
      "Created a chunk of size 2569, which is longer than the specified 1000\n",
      "Created a chunk of size 2684, which is longer than the specified 1000\n",
      "Created a chunk of size 1142, which is longer than the specified 1000\n",
      "Created a chunk of size 2273, which is longer than the specified 1000\n",
      "Created a chunk of size 1496, which is longer than the specified 1000\n",
      "Created a chunk of size 2074, which is longer than the specified 1000\n",
      "Created a chunk of size 1602, which is longer than the specified 1000\n",
      "Created a chunk of size 2179, which is longer than the specified 1000\n",
      "Created a chunk of size 2610, which is longer than the specified 1000\n",
      "Created a chunk of size 2294, which is longer than the specified 1000\n",
      "Created a chunk of size 1883, which is longer than the specified 1000\n",
      "Created a chunk of size 1568, which is longer than the specified 1000\n",
      "Created a chunk of size 1324, which is longer than the specified 1000\n",
      "Created a chunk of size 2091, which is longer than the specified 1000\n",
      "Created a chunk of size 1336, which is longer than the specified 1000\n",
      "Created a chunk of size 2142, which is longer than the specified 1000\n"
     ]
    }
   ],
   "source": [
    "text_splitter = CharacterTextSplitter(chunk_size = 1000,chunk_overlap = 200)\n",
    "chunks = text_splitter.split_documents(content)"
   ]
  },
  {
   "cell_type": "code",
   "execution_count": 25,
   "id": "14113396-fbdd-48d3-91a6-7b511a5d4928",
   "metadata": {},
   "outputs": [
    {
     "data": {
      "text/plain": [
       "317"
      ]
     },
     "execution_count": 25,
     "metadata": {},
     "output_type": "execute_result"
    }
   ],
   "source": [
    "len(chunks)"
   ]
  },
  {
   "cell_type": "code",
   "execution_count": 27,
   "id": "81dd4ae6-38bd-451d-89df-b447e87edb71",
   "metadata": {},
   "outputs": [],
   "source": [
    "embeddings = OpenAIEmbeddings()"
   ]
  },
  {
   "cell_type": "code",
   "execution_count": 28,
   "id": "6db9967b-507c-40e0-a344-b43e83f670c8",
   "metadata": {},
   "outputs": [],
   "source": [
    "if os.path.exists(db_name):\n",
    "    Chroma(persist_directory = db_name,embedding_function = embeddings).delete_collection()"
   ]
  },
  {
   "cell_type": "code",
   "execution_count": 31,
   "id": "db7477fc-27fd-41c4-ac7a-58836727b37d",
   "metadata": {},
   "outputs": [
    {
     "name": "stdout",
     "output_type": "stream",
     "text": [
      "vectorstore created with 317 documents\n"
     ]
    }
   ],
   "source": [
    "vectorstore = Chroma.from_documents(documents = chunks,embedding = embeddings,persist_directory = db_name)\n",
    "print(f\"vectorstore created with {vectorstore._collection.count()} documents\")"
   ]
  },
  {
   "cell_type": "code",
   "execution_count": 32,
   "id": "e8f239d3-bf3d-413b-a1bd-f891957eb2a0",
   "metadata": {},
   "outputs": [],
   "source": [
    "#llm_model bulding"
   ]
  },
  {
   "cell_type": "code",
   "execution_count": 33,
   "id": "ac9654cb-e7db-4370-a897-c967b656453b",
   "metadata": {},
   "outputs": [
    {
     "name": "stderr",
     "output_type": "stream",
     "text": [
      "C:\\Users\\prana\\AppData\\Local\\Temp\\ipykernel_15244\\2790693016.py:2: LangChainDeprecationWarning: Please see the migration guide at: https://python.langchain.com/docs/versions/migrating_memory/\n",
      "  memory = ConversationBufferMemory(memory_key = 'chat_history',return_message = True)\n"
     ]
    }
   ],
   "source": [
    "llm = ChatOpenAI(temperature = 0.5,model_name= model)\n",
    "memory = ConversationBufferMemory(memory_key = 'chat_history',return_message = True)\n",
    "retriever = vectorstore.as_retriever()\n",
    "conversation_chain = ConversationalRetrievalChain.from_llm(llm = llm,retriever = retriever,memory = memory)"
   ]
  },
  {
   "cell_type": "code",
   "execution_count": 35,
   "id": "80e5597a-d2cd-4445-9e66-93514debaeb3",
   "metadata": {},
   "outputs": [
    {
     "name": "stdout",
     "output_type": "stream",
     "text": [
      "The parents of the Pandavas were King Pāndu and his wives Kunti and Mādri. Kunti was the daughter of Shurasena of the Yādava clan, and Mādri was the sister of Shalya, the king of Madra desh.\n"
     ]
    }
   ],
   "source": [
    "query = 'Who were the parents of pandavas'\n",
    "result=  conversation_chain.invoke({'question':query})\n",
    "print(result['answer'])"
   ]
  },
  {
   "cell_type": "code",
   "execution_count": 36,
   "id": "78921084-9136-40a8-9c26-d301b783d3f9",
   "metadata": {},
   "outputs": [],
   "source": [
    "#putting it together into chat window"
   ]
  },
  {
   "cell_type": "code",
   "execution_count": 37,
   "id": "1be9006b-3e35-4db7-bf1a-9f413db9c455",
   "metadata": {},
   "outputs": [],
   "source": [
    "memory = ConversationBufferMemory(memory_key = 'chat_history',return_messages = True)\n",
    "conversation_chain = ConversationalRetrievalChain.from_llm(llm = llm,retriever = retriever,memory = memory)\n",
    "def chat(message,history):\n",
    "    result = conversation_chain.invoke({'question':message})\n",
    "    return result['answer']"
   ]
  },
  {
   "cell_type": "code",
   "execution_count": 38,
   "id": "789330c7-1bc0-4cde-85bc-3eeeb76fe982",
   "metadata": {},
   "outputs": [
    {
     "name": "stdout",
     "output_type": "stream",
     "text": [
      "* Running on local URL:  http://127.0.0.1:7860\n",
      "\n",
      "To create a public link, set `share=True` in `launch()`.\n"
     ]
    },
    {
     "data": {
      "text/html": [
       "<div><iframe src=\"http://127.0.0.1:7860/\" width=\"100%\" height=\"500\" allow=\"autoplay; camera; microphone; clipboard-read; clipboard-write;\" frameborder=\"0\" allowfullscreen></iframe></div>"
      ],
      "text/plain": [
       "<IPython.core.display.HTML object>"
      ]
     },
     "metadata": {},
     "output_type": "display_data"
    }
   ],
   "source": [
    "view = gr.ChatInterface(chat,type = 'messages').launch(inbrowser = True)"
   ]
  },
  {
   "cell_type": "code",
   "execution_count": null,
   "id": "56bfcf9c-3758-47d5-b927-57e89c3fa0d0",
   "metadata": {},
   "outputs": [],
   "source": []
  },
  {
   "cell_type": "code",
   "execution_count": null,
   "id": "96f60748-f2e8-4030-b976-cb3ec1cc2ce1",
   "metadata": {},
   "outputs": [],
   "source": []
  }
 ],
 "metadata": {
  "kernelspec": {
   "display_name": "Python 3 (ipykernel)",
   "language": "python",
   "name": "python3"
  },
  "language_info": {
   "codemirror_mode": {
    "name": "ipython",
    "version": 3
   },
   "file_extension": ".py",
   "mimetype": "text/x-python",
   "name": "python",
   "nbconvert_exporter": "python",
   "pygments_lexer": "ipython3",
   "version": "3.11.11"
  }
 },
 "nbformat": 4,
 "nbformat_minor": 5
}
